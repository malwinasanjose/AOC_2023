{
 "cells": [
  {
   "cell_type": "code",
   "execution_count": 1,
   "id": "c07566a0",
   "metadata": {},
   "outputs": [],
   "source": [
    "import re\n"
   ]
  },
  {
   "cell_type": "code",
   "execution_count": 181,
   "id": "484fbec3",
   "metadata": {},
   "outputs": [
    {
     "data": {
      "text/plain": [
       "4361"
      ]
     },
     "execution_count": 181,
     "metadata": {},
     "output_type": "execute_result"
    }
   ],
   "source": [
    "# numbers that touch a symbol are the wrong gears and need to be found\n",
    "\n",
    "test = '''\n",
    "467..114..\n",
    "...*......\n",
    "..35..633.\n",
    "......#...\n",
    "617*......\n",
    ".....+.58.\n",
    "..592.....\n",
    "......755.\n",
    "...$.*....\n",
    ".664.598..\n",
    "'''\n",
    "\n",
    "res =4361\n",
    "w = [467, 35, 633, 617, 592, 755, 664, 598]\n",
    "c = [114, 58]\n",
    "sum(w)"
   ]
  },
  {
   "cell_type": "code",
   "execution_count": 193,
   "id": "69d6a5d9",
   "metadata": {},
   "outputs": [],
   "source": [
    "image = open('input3.txt', 'r').read()\n",
    "image = image.split('\\n')\n",
    "# add a padding to prevent boundary effects on the side of the box\n",
    "\n",
    "image"
   ]
  },
  {
   "cell_type": "code",
   "execution_count": 231,
   "id": "bddefa2b",
   "metadata": {},
   "outputs": [],
   "source": [
    "# iterate over the grid - check for digits that are touching anything but '.'\n",
    "wrong = [] # list of all numbers that touch a symbol\n",
    "\n",
    "for line_idx, line in enumerate(image):\n",
    "\n",
    "    dig_in_line = re.finditer(r\"(\\d+)\", line)\n",
    "    \n",
    "    for d in dig_in_line:\n",
    "        \n",
    "        #find adjacent pixels incl. diagonal\n",
    "        adjacent = []\n",
    "        x_min, x_max = d.start()-1, d.end() # d.end() works, no +1\n",
    "        y_min, y_max = line_idx-1, line_idx+1\n",
    "        # x axis\n",
    "        adjacent.extend([(line_idx, x_min), (line_idx, x_max)])\n",
    "        # y axis\n",
    "        adjacent.extend([(y_min, x) for x in range(x_min, x_max+1)])\n",
    "        adjacent.extend([(y_max, x) for x in range(x_min, x_max+1)])\n",
    "        \n",
    "        #filter out of bounds pixels\n",
    "        valid_coord = []\n",
    "        for coord in adjacent:\n",
    "            if coord[0]<0 or coord[1]<0 or coord[0]>=len(image) or coord[1]>=len(image[0]): \n",
    "                pass\n",
    "            else:\n",
    "                valid_coord.append(coord)\n",
    "        \n",
    "        for vc in valid_coord: \n",
    "            #print('checking', coord, image[vc[0]][vc[1]])\n",
    "            if image[vc[0]][vc[1]] != '.':\n",
    "                #print('=> wrong', d.group())\n",
    "                wrong.append(int(d.group()))\n",
    "                break  # as soon as we hit a non dot pixel we exit and go to next d\n",
    "\n",
    "            "
   ]
  },
  {
   "cell_type": "code",
   "execution_count": 233,
   "id": "98559b78",
   "metadata": {},
   "outputs": [
    {
     "data": {
      "text/plain": [
       "538046"
      ]
     },
     "execution_count": 233,
     "metadata": {},
     "output_type": "execute_result"
    }
   ],
   "source": [
    "# sum of all numbers that touch any special char\n",
    "sum(wrong)"
   ]
  },
  {
   "cell_type": "code",
   "execution_count": null,
   "id": "34efc304",
   "metadata": {},
   "outputs": [],
   "source": [
    "# part 2\n",
    "#A gear is any * symbol that is adjacent to exactly two part numbers.\n",
    "#Its gear ratio is the result of multiplying those two numbers together.\n",
    "#This time, you need to find the gear ratio of every gear and add them all up "
   ]
  },
  {
   "cell_type": "code",
   "execution_count": null,
   "id": "6f3529e1",
   "metadata": {},
   "outputs": [],
   "source": [
    "test = '''\n",
    "467..114..\n",
    "...*......\n",
    "..35..633.\n",
    "......#...\n",
    "617*......\n",
    ".....+.58.\n",
    "..592.....\n",
    "......755.\n",
    "...$.*....\n",
    ".664.598..\n",
    "'''\n",
    "\n",
    "# g1  = 467 and 35, so its gear ratio is 16345\n",
    "# g2 ratio is 451490\n",
    "# res = 467835"
   ]
  },
  {
   "cell_type": "code",
   "execution_count": 5,
   "id": "3a4e7eea",
   "metadata": {},
   "outputs": [],
   "source": [
    "# \n",
    "image = open('input3.txt', 'r').read()\n",
    "image = image.split('\\n')\n"
   ]
  },
  {
   "cell_type": "code",
   "execution_count": 3,
   "id": "baefbb55",
   "metadata": {},
   "outputs": [],
   "source": [
    "import re\n",
    "# same check but need to count how many neighbours a symbol has\n",
    "# keep only * symbols \n",
    "\n",
    "wrong = []\n",
    "gear_dict=dict()\n",
    "\n",
    "for line_idx, line in enumerate(image):\n",
    "\n",
    "    dig_in_line = re.finditer(r\"(\\d+)\", line)\n",
    "    \n",
    "    for d in dig_in_line:  \n",
    "        #find adjacent pixels incl. diagonal\n",
    "        adjacent = []\n",
    "        x_min, x_max = d.start()-1, d.end()\n",
    "        y_min, y_max = line_idx-1, line_idx+1\n",
    "        adjacent.extend([(line_idx, x_min), (line_idx, x_max)])\n",
    "        adjacent.extend([(y_min, x) for x in range(x_min, x_max+1)])\n",
    "        adjacent.extend([(y_max, x) for x in range(x_min, x_max+1)])\n",
    "        \n",
    "        #filter out of bounds pixels\n",
    "        valid_coord = []\n",
    "        for coord in adjacent:\n",
    "            if coord[0]<0 or coord[1]<0 or coord[0]>=len(image) or coord[1]>=len(image[0]): \n",
    "                pass\n",
    "            else:\n",
    "                valid_coord.append(coord)\n",
    "        \n",
    "        for vc in valid_coord: \n",
    "            # keep only * symbols that are around the wrong gear numbers from part 1\n",
    "            #if image[vc[0]][vc[1]] != '*': # it's a *\n",
    "            if image[vc[0]][vc[1]] != '.': # it's a *\n",
    "                assert (image[vc[0]][vc[1]]).isdigit()==False # assumption theres no adjacent digits\n",
    "            # fill a dict for each unique symbol and list their neighbours\n",
    "                if image[vc[0]][vc[1]] == '*':\n",
    "                    if vc in gear_dict: gear_dict[vc].append(int(d.group()))  # assuming there are no double duplicates\n",
    "                        # todo if we have twice the same number on the same key like 78*78\n",
    "                    else:gear_dict[vc] = [(int(d.group()))]\n",
    "         "
   ]
  },
  {
   "cell_type": "code",
   "execution_count": 290,
   "id": "025d9e2f",
   "metadata": {
    "scrolled": true
   },
   "outputs": [
    {
     "ename": "RuntimeError",
     "evalue": "dictionary changed size during iteration",
     "output_type": "error",
     "traceback": [
      "\u001b[1;31m---------------------------------------------------------------------------\u001b[0m",
      "\u001b[1;31mRuntimeError\u001b[0m                              Traceback (most recent call last)",
      "Input \u001b[1;32mIn [290]\u001b[0m, in \u001b[0;36m<module>\u001b[1;34m\u001b[0m\n\u001b[0;32m      1\u001b[0m \u001b[38;5;66;03m# keep only entries with 2 matches in dict:\u001b[39;00m\n\u001b[1;32m----> 2\u001b[0m \u001b[38;5;28;01mfor\u001b[39;00m k, v \u001b[38;5;129;01min\u001b[39;00m gear_dict\u001b[38;5;241m.\u001b[39mitems():\n\u001b[0;32m      3\u001b[0m     \u001b[38;5;66;03m#print (k, v)\u001b[39;00m\n\u001b[0;32m      4\u001b[0m     \u001b[38;5;28;01mif\u001b[39;00m \u001b[38;5;28mlen\u001b[39m(v) \u001b[38;5;241m!=\u001b[39m\u001b[38;5;241m2\u001b[39m:\n\u001b[0;32m      5\u001b[0m         \u001b[38;5;66;03m#print(k, v, 'not 2')\u001b[39;00m\n\u001b[0;32m      6\u001b[0m         \u001b[38;5;28;01mdel\u001b[39;00m(gear_dict[k])\n",
      "\u001b[1;31mRuntimeError\u001b[0m: dictionary changed size during iteration"
     ]
    }
   ],
   "source": [
    "# keep only entries with 2 matches in the dict:\n",
    "for k, v in gear_dict.items():\n",
    "    #print (k, v)\n",
    "    if len(v) !=2:\n",
    "        #print(k, v, 'not 2')\n",
    "        del(gear_dict[k])\n",
    "\n",
    "\n",
    "gear_dict"
   ]
  },
  {
   "cell_type": "code",
   "execution_count": 4,
   "id": "9b6f7578",
   "metadata": {},
   "outputs": [
    {
     "data": {
      "text/plain": [
       "81709807"
      ]
     },
     "execution_count": 4,
     "metadata": {},
     "output_type": "execute_result"
    }
   ],
   "source": [
    "# keep only entries with 2 matches in the dict:\n",
    "to_sum =[]\n",
    "for k, v in gear_dict.items():\n",
    "    #print (k, v)\n",
    "    if len(v) ==2:\n",
    "        prod = v[0]*v[1]\n",
    "        to_sum.append(prod)\n",
    "        \n",
    "sum(to_sum)"
   ]
  },
  {
   "cell_type": "code",
   "execution_count": null,
   "id": "ff0d0e57",
   "metadata": {},
   "outputs": [],
   "source": []
  },
  {
   "cell_type": "code",
   "execution_count": null,
   "id": "215ad101",
   "metadata": {},
   "outputs": [],
   "source": []
  },
  {
   "cell_type": "code",
   "execution_count": null,
   "id": "c77176b2",
   "metadata": {},
   "outputs": [],
   "source": []
  }
 ],
 "metadata": {
  "kernelspec": {
   "display_name": "Python 3 (ipykernel)",
   "language": "python",
   "name": "python3"
  },
  "language_info": {
   "codemirror_mode": {
    "name": "ipython",
    "version": 3
   },
   "file_extension": ".py",
   "mimetype": "text/x-python",
   "name": "python",
   "nbconvert_exporter": "python",
   "pygments_lexer": "ipython3",
   "version": "3.9.7"
  }
 },
 "nbformat": 4,
 "nbformat_minor": 5
}
