{
 "cells": [
  {
   "cell_type": "code",
   "execution_count": null,
   "id": "03b8ac73",
   "metadata": {},
   "outputs": [],
   "source": [
    "# cubes are red, green or blue\n",
    "# 3 find out number of cubes in bag\n",
    "# see a few draws of random number of cubes, then they're put back in\n"
   ]
  },
  {
   "cell_type": "code",
   "execution_count": null,
   "id": "5cd53632",
   "metadata": {},
   "outputs": [],
   "source": [
    "# which games would have been possible if the bag contained only 12 red cubes, 13 green cubes, and 14 blue cubes\n",
    "# What is the sum of the IDs of those games?"
   ]
  },
  {
   "cell_type": "code",
   "execution_count": 9,
   "id": "5ce4d0d7",
   "metadata": {},
   "outputs": [],
   "source": [
    "import pandas as pd\n",
    "import re"
   ]
  },
  {
   "cell_type": "code",
   "execution_count": 33,
   "id": "6f074a4c",
   "metadata": {},
   "outputs": [],
   "source": [
    "raw_text = open('./input2.txt', 'r')\n",
    "input_text = raw_text.readlines()"
   ]
  },
  {
   "cell_type": "code",
   "execution_count": 88,
   "id": "f8cfac67",
   "metadata": {},
   "outputs": [
    {
     "data": {
      "text/html": [
       "<div>\n",
       "<style scoped>\n",
       "    .dataframe tbody tr th:only-of-type {\n",
       "        vertical-align: middle;\n",
       "    }\n",
       "\n",
       "    .dataframe tbody tr th {\n",
       "        vertical-align: top;\n",
       "    }\n",
       "\n",
       "    .dataframe thead th {\n",
       "        text-align: right;\n",
       "    }\n",
       "</style>\n",
       "<table border=\"1\" class=\"dataframe\">\n",
       "  <thead>\n",
       "    <tr style=\"text-align: right;\">\n",
       "      <th></th>\n",
       "      <th>0</th>\n",
       "      <th>1</th>\n",
       "    </tr>\n",
       "  </thead>\n",
       "  <tbody>\n",
       "    <tr>\n",
       "      <th>0</th>\n",
       "      <td>Game1</td>\n",
       "      <td>12red,2green,5blue;9red,6green,4blue;10red,2gr...</td>\n",
       "    </tr>\n",
       "    <tr>\n",
       "      <th>1</th>\n",
       "      <td>Game2</td>\n",
       "      <td>3green,7red;3blue,5red;2green,1blue,6red;3gree...</td>\n",
       "    </tr>\n",
       "    <tr>\n",
       "      <th>2</th>\n",
       "      <td>Game3</td>\n",
       "      <td>12red,18blue,3green;14red,4blue,2green;4green,...</td>\n",
       "    </tr>\n",
       "    <tr>\n",
       "      <th>3</th>\n",
       "      <td>Game4</td>\n",
       "      <td>14blue,8red,10green;7green,9blue,4red;4green,5red</td>\n",
       "    </tr>\n",
       "    <tr>\n",
       "      <th>4</th>\n",
       "      <td>Game5</td>\n",
       "      <td>2red,1blue,4green;1blue,1red,5green;6green,3re...</td>\n",
       "    </tr>\n",
       "    <tr>\n",
       "      <th>...</th>\n",
       "      <td>...</td>\n",
       "      <td>...</td>\n",
       "    </tr>\n",
       "    <tr>\n",
       "      <th>95</th>\n",
       "      <td>Game96</td>\n",
       "      <td>2green;7blue,10red,4green;9red,2blue,9green</td>\n",
       "    </tr>\n",
       "    <tr>\n",
       "      <th>96</th>\n",
       "      <td>Game97</td>\n",
       "      <td>5blue,6red,14green;6green,14blue,2red;2blue,4g...</td>\n",
       "    </tr>\n",
       "    <tr>\n",
       "      <th>97</th>\n",
       "      <td>Game98</td>\n",
       "      <td>8green,1blue,9red;1blue,10green;11green,1blue,...</td>\n",
       "    </tr>\n",
       "    <tr>\n",
       "      <th>98</th>\n",
       "      <td>Game99</td>\n",
       "      <td>1red,6green,3blue;7blue,1red,2green;1red,4gree...</td>\n",
       "    </tr>\n",
       "    <tr>\n",
       "      <th>99</th>\n",
       "      <td>Game100</td>\n",
       "      <td>5green,1red;1red,6green;6blue,1red,6green;6blu...</td>\n",
       "    </tr>\n",
       "  </tbody>\n",
       "</table>\n",
       "<p>100 rows × 2 columns</p>\n",
       "</div>"
      ],
      "text/plain": [
       "          0                                                  1\n",
       "0     Game1  12red,2green,5blue;9red,6green,4blue;10red,2gr...\n",
       "1     Game2  3green,7red;3blue,5red;2green,1blue,6red;3gree...\n",
       "2     Game3  12red,18blue,3green;14red,4blue,2green;4green,...\n",
       "3     Game4  14blue,8red,10green;7green,9blue,4red;4green,5red\n",
       "4     Game5  2red,1blue,4green;1blue,1red,5green;6green,3re...\n",
       "..      ...                                                ...\n",
       "95   Game96        2green;7blue,10red,4green;9red,2blue,9green\n",
       "96   Game97  5blue,6red,14green;6green,14blue,2red;2blue,4g...\n",
       "97   Game98  8green,1blue,9red;1blue,10green;11green,1blue,...\n",
       "98   Game99  1red,6green,3blue;7blue,1red,2green;1red,4gree...\n",
       "99  Game100  5green,1red;1red,6green;6blue,1red,6green;6blu...\n",
       "\n",
       "[100 rows x 2 columns]"
      ]
     },
     "execution_count": 88,
     "metadata": {},
     "output_type": "execute_result"
    }
   ],
   "source": [
    "data = pd.read_csv(\"input2.txt\", sep=\"\\n\", header=None)\n",
    "#df = data[0].str.split(';|:', expand=True)\n",
    "df = data[0].str.split(':', expand=True)\n",
    "df = df.fillna('0')\n",
    "\n",
    "\n",
    "for col in list(df.columns):\n",
    "    df[col] = df[col].apply(lambda x: x.replace(' ', ''))\n",
    "\n",
    "df"
   ]
  },
  {
   "cell_type": "code",
   "execution_count": 85,
   "id": "cd83834c",
   "metadata": {},
   "outputs": [],
   "source": [
    "# actual number of cubes\n",
    "n_cubes = {'red': 12, 'green': 13, 'blue': 14}"
   ]
  },
  {
   "cell_type": "code",
   "execution_count": 102,
   "id": "9044a9bf",
   "metadata": {},
   "outputs": [],
   "source": [
    "# compare max for each color for each game to the actual number of cubes present\n",
    "# as soon as one draw is too high we discard that game \n",
    "\n",
    "impossible_games = set()\n",
    "all_games = set()\n",
    "\n",
    "for i, game in df.iterrows():\n",
    "    for color in ['red', 'green', 'blue']:\n",
    "        regex = r\"(\\d+)\" + color \n",
    "        max_draw = max([int(i) for i in re.findall(regex, game[1])])\n",
    "        \n",
    "        if max_draw> n_cubes[color]:\n",
    "            # save the ID of the game\n",
    "            impossible_games.add(int(re.sub(r\"\\D\", \"\", game[0])))\n",
    "            break\n",
    "            \n",
    "    all_games.add(int(re.sub(r\"\\D\", \"\", game[0])))"
   ]
  },
  {
   "cell_type": "code",
   "execution_count": 107,
   "id": "5c648b33",
   "metadata": {},
   "outputs": [
    {
     "data": {
      "text/plain": [
       "2600"
      ]
     },
     "execution_count": 107,
     "metadata": {},
     "output_type": "execute_result"
    }
   ],
   "source": [
    "# games that are not in impossible games\n",
    "t = all_games^(impossible_games)\n",
    "sum(t)"
   ]
  },
  {
   "cell_type": "code",
   "execution_count": null,
   "id": "6cabd4a0",
   "metadata": {},
   "outputs": [],
   "source": [
    "# part 2\n",
    "# find fewest number of cubes of each color that could have been in the bag to make the game possible\n",
    "# result = sum(max_red * max_blue * max_green) over all games "
   ]
  },
  {
   "cell_type": "code",
   "execution_count": 109,
   "id": "7ea54474",
   "metadata": {},
   "outputs": [],
   "source": [
    "from functools import reduce"
   ]
  },
  {
   "cell_type": "code",
   "execution_count": 110,
   "id": "a16c0905",
   "metadata": {},
   "outputs": [],
   "source": [
    "\n",
    "all_powers = []\n",
    "\n",
    "# for each game we find the max for each color\n",
    "for i, game in df.iterrows():\n",
    "    game_cubes = []\n",
    "    for color in ['red', 'green', 'blue']:\n",
    "        regex = r\"(\\d+)\" + color \n",
    "        max_draw = max([int(i) for i in re.findall(regex, game[1])])\n",
    "        game_cubes.append(max_draw)\n",
    "    \n",
    "    # multiplying the 3 max numbers together (might be tricky if there are null values, so using reduce wich works for any len)\n",
    "    game_power = reduce(lambda x, y: x*y, game_cubes)\n",
    "    all_powers.append(game_power)\n",
    "        "
   ]
  },
  {
   "cell_type": "code",
   "execution_count": 112,
   "id": "52dfa7f1",
   "metadata": {},
   "outputs": [
    {
     "data": {
      "text/plain": [
       "86036"
      ]
     },
     "execution_count": 112,
     "metadata": {},
     "output_type": "execute_result"
    }
   ],
   "source": [
    "sum(all_powers)"
   ]
  },
  {
   "cell_type": "code",
   "execution_count": null,
   "id": "79bd060d",
   "metadata": {},
   "outputs": [],
   "source": []
  },
  {
   "cell_type": "code",
   "execution_count": null,
   "id": "7d964ac9",
   "metadata": {},
   "outputs": [],
   "source": []
  },
  {
   "cell_type": "code",
   "execution_count": null,
   "id": "31bfb1e3",
   "metadata": {},
   "outputs": [],
   "source": []
  },
  {
   "cell_type": "code",
   "execution_count": null,
   "id": "872fcccc",
   "metadata": {},
   "outputs": [],
   "source": []
  },
  {
   "cell_type": "code",
   "execution_count": null,
   "id": "716e1454",
   "metadata": {},
   "outputs": [],
   "source": []
  }
 ],
 "metadata": {
  "kernelspec": {
   "display_name": "Python 3 (ipykernel)",
   "language": "python",
   "name": "python3"
  },
  "language_info": {
   "codemirror_mode": {
    "name": "ipython",
    "version": 3
   },
   "file_extension": ".py",
   "mimetype": "text/x-python",
   "name": "python",
   "nbconvert_exporter": "python",
   "pygments_lexer": "ipython3",
   "version": "3.9.7"
  }
 },
 "nbformat": 4,
 "nbformat_minor": 5
}
